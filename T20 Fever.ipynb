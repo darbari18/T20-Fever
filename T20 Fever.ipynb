#import necessary libraries
import numpy as np
import pandas as pd
import json

Match Summary

with open ('t20_wc_match_results.json') as f:
    data = json.load(f)
len(data)
df_match = pd.DataFrame(data[0]['matchSummary'])
df_match.head()
df_match.rename({'scorecard' : 'MatchId'}, axis = 1, inplace = True)
df_match.head()
df_match.tail()


match_ids_dict = {}

for index, row in df_match.iterrows():
    key1 = row['team1'] + ' Vs ' + row['team2']
    key2 = row['team2'] + ' Vs ' + row['team1']
    match_ids_dict[key1] = row['MatchId']
    match_ids_dict[key2] = row['MatchId']

df_match.to_csv('dim_match_summary.csv', index = False)

Batting Summary

with open ('t20_wc_batting_summary.json') as f:
        data = json.load(f)
data
all_records = []
for rec in data:
    all_records.extend(rec['battingSummary'])
all_records
df_batting = pd.DataFrame(all_records)
df_batting
df_batting['match_id'] = df_batting['match'].map(match_ids_dict)
df_batting.head()
df_batting['Out/NotOut'] = df_batting.dismissal.apply(lambda x : "Out" if len(x) > 0 else "NotOut")
df_batting.head()
df_batting.drop(columns=["dismissal"], inplace=True)
df_batting.head(10)
df_batting['batsmanName'] = df_batting['batsmanName'].apply(lambda x: x.replace('â€', ''))
df_batting['batsmanName'] = df_batting['batsmanName'].apply(lambda x: x.replace('\xa0', ''))
df_batting.head()

Bowling Summary

with open('t20_wc_bowling_summary.json') as f:
    data = json.load(f)
    all_records = []
    for rec in data:
        all_records.extend(rec['bowlingSummary'])
all_records[:2]

df_bowling = pd.DataFrame(all_records)
print(df_bowling.shape)
df_bowling.head()

df_bowling['MatchId'] = df_bowling['match'].map(match_ids_dict)
df_bowling.head()

df_bowling.to_csv('fact_bowling_summary.csv', index = False)

Players Information


with open('t20_wc_player_info.json') as f:
    data = json.load(f)

df_players = pd.DataFrame(data)
​
print(df_players.shape)
df_players.head(10)
df_players['name'] = df_players['name'].apply(lambda x: x.replace('â€', ''))
df_players['name'] = df_players['name'].apply(lambda x: x.replace('†', ''))
df_players['name'] = df_players['name'].apply(lambda x: x.replace('\xa0', ''))
df_players.head(10)
df_players.to_csv('dim_players_no_images.csv', index = False)
